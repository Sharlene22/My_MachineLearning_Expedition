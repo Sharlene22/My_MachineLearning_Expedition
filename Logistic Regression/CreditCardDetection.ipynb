{
 "cells": [
  {
   "cell_type": "markdown",
   "metadata": {},
   "source": [
    "Logistic Regression\n"
   ]
  },
  {
   "cell_type": "markdown",
   "metadata": {},
   "source": [
    "Credit Card Fraud Detection - The dataset is taken from kaggle.com,\n",
    "which consists anonymized or encoded features that have been derived from the original data for privacy or security reasons."
   ]
  },
  {
   "cell_type": "code",
   "execution_count": 462,
   "metadata": {},
   "outputs": [],
   "source": [
    "#importing the necessary dependencies & libraries\n",
    "import numpy as np\n",
    "import pandas as pd\n",
    "import matplotlib.pyplot as plt\n",
    "from sklearn.linear_model import LogisticRegression\n",
    "from sklearn.model_selection import KFold, cross_val_score, train_test_split\n",
    "from sklearn.metrics import confusion_matrix,precision_recall_curve,auc,recall_score\n",
    "from sklearn.preprocessing import StandardScaler\n"
   ]
  },
  {
   "cell_type": "markdown",
   "metadata": {},
   "source": [
    "Task 1: Analysing Data"
   ]
  },
  {
   "cell_type": "code",
   "execution_count": 463,
   "metadata": {},
   "outputs": [
    {
     "data": {
      "text/plain": [
       "(284807, 31)"
      ]
     },
     "execution_count": 463,
     "metadata": {},
     "output_type": "execute_result"
    }
   ],
   "source": [
    "#loading the dataset\n",
    "data = pd.read_csv('creditcard.csv')\n",
    "data.shape"
   ]
  },
  {
   "cell_type": "code",
   "execution_count": 464,
   "metadata": {},
   "outputs": [
    {
     "data": {
      "text/html": [
       "<div>\n",
       "<style scoped>\n",
       "    .dataframe tbody tr th:only-of-type {\n",
       "        vertical-align: middle;\n",
       "    }\n",
       "\n",
       "    .dataframe tbody tr th {\n",
       "        vertical-align: top;\n",
       "    }\n",
       "\n",
       "    .dataframe thead th {\n",
       "        text-align: right;\n",
       "    }\n",
       "</style>\n",
       "<table border=\"1\" class=\"dataframe\">\n",
       "  <thead>\n",
       "    <tr style=\"text-align: right;\">\n",
       "      <th></th>\n",
       "      <th>Time</th>\n",
       "      <th>V1</th>\n",
       "      <th>V2</th>\n",
       "      <th>V3</th>\n",
       "      <th>V4</th>\n",
       "      <th>V5</th>\n",
       "      <th>V6</th>\n",
       "      <th>V7</th>\n",
       "      <th>V8</th>\n",
       "      <th>V9</th>\n",
       "      <th>...</th>\n",
       "      <th>V21</th>\n",
       "      <th>V22</th>\n",
       "      <th>V23</th>\n",
       "      <th>V24</th>\n",
       "      <th>V25</th>\n",
       "      <th>V26</th>\n",
       "      <th>V27</th>\n",
       "      <th>V28</th>\n",
       "      <th>Amount</th>\n",
       "      <th>Class</th>\n",
       "    </tr>\n",
       "  </thead>\n",
       "  <tbody>\n",
       "    <tr>\n",
       "      <th>0</th>\n",
       "      <td>0.0</td>\n",
       "      <td>-1.359807</td>\n",
       "      <td>-0.072781</td>\n",
       "      <td>2.536347</td>\n",
       "      <td>1.378155</td>\n",
       "      <td>-0.338321</td>\n",
       "      <td>0.462388</td>\n",
       "      <td>0.239599</td>\n",
       "      <td>0.098698</td>\n",
       "      <td>0.363787</td>\n",
       "      <td>...</td>\n",
       "      <td>-0.018307</td>\n",
       "      <td>0.277838</td>\n",
       "      <td>-0.110474</td>\n",
       "      <td>0.066928</td>\n",
       "      <td>0.128539</td>\n",
       "      <td>-0.189115</td>\n",
       "      <td>0.133558</td>\n",
       "      <td>-0.021053</td>\n",
       "      <td>149.62</td>\n",
       "      <td>0</td>\n",
       "    </tr>\n",
       "    <tr>\n",
       "      <th>1</th>\n",
       "      <td>0.0</td>\n",
       "      <td>1.191857</td>\n",
       "      <td>0.266151</td>\n",
       "      <td>0.166480</td>\n",
       "      <td>0.448154</td>\n",
       "      <td>0.060018</td>\n",
       "      <td>-0.082361</td>\n",
       "      <td>-0.078803</td>\n",
       "      <td>0.085102</td>\n",
       "      <td>-0.255425</td>\n",
       "      <td>...</td>\n",
       "      <td>-0.225775</td>\n",
       "      <td>-0.638672</td>\n",
       "      <td>0.101288</td>\n",
       "      <td>-0.339846</td>\n",
       "      <td>0.167170</td>\n",
       "      <td>0.125895</td>\n",
       "      <td>-0.008983</td>\n",
       "      <td>0.014724</td>\n",
       "      <td>2.69</td>\n",
       "      <td>0</td>\n",
       "    </tr>\n",
       "    <tr>\n",
       "      <th>2</th>\n",
       "      <td>1.0</td>\n",
       "      <td>-1.358354</td>\n",
       "      <td>-1.340163</td>\n",
       "      <td>1.773209</td>\n",
       "      <td>0.379780</td>\n",
       "      <td>-0.503198</td>\n",
       "      <td>1.800499</td>\n",
       "      <td>0.791461</td>\n",
       "      <td>0.247676</td>\n",
       "      <td>-1.514654</td>\n",
       "      <td>...</td>\n",
       "      <td>0.247998</td>\n",
       "      <td>0.771679</td>\n",
       "      <td>0.909412</td>\n",
       "      <td>-0.689281</td>\n",
       "      <td>-0.327642</td>\n",
       "      <td>-0.139097</td>\n",
       "      <td>-0.055353</td>\n",
       "      <td>-0.059752</td>\n",
       "      <td>378.66</td>\n",
       "      <td>0</td>\n",
       "    </tr>\n",
       "    <tr>\n",
       "      <th>3</th>\n",
       "      <td>1.0</td>\n",
       "      <td>-0.966272</td>\n",
       "      <td>-0.185226</td>\n",
       "      <td>1.792993</td>\n",
       "      <td>-0.863291</td>\n",
       "      <td>-0.010309</td>\n",
       "      <td>1.247203</td>\n",
       "      <td>0.237609</td>\n",
       "      <td>0.377436</td>\n",
       "      <td>-1.387024</td>\n",
       "      <td>...</td>\n",
       "      <td>-0.108300</td>\n",
       "      <td>0.005274</td>\n",
       "      <td>-0.190321</td>\n",
       "      <td>-1.175575</td>\n",
       "      <td>0.647376</td>\n",
       "      <td>-0.221929</td>\n",
       "      <td>0.062723</td>\n",
       "      <td>0.061458</td>\n",
       "      <td>123.50</td>\n",
       "      <td>0</td>\n",
       "    </tr>\n",
       "    <tr>\n",
       "      <th>4</th>\n",
       "      <td>2.0</td>\n",
       "      <td>-1.158233</td>\n",
       "      <td>0.877737</td>\n",
       "      <td>1.548718</td>\n",
       "      <td>0.403034</td>\n",
       "      <td>-0.407193</td>\n",
       "      <td>0.095921</td>\n",
       "      <td>0.592941</td>\n",
       "      <td>-0.270533</td>\n",
       "      <td>0.817739</td>\n",
       "      <td>...</td>\n",
       "      <td>-0.009431</td>\n",
       "      <td>0.798278</td>\n",
       "      <td>-0.137458</td>\n",
       "      <td>0.141267</td>\n",
       "      <td>-0.206010</td>\n",
       "      <td>0.502292</td>\n",
       "      <td>0.219422</td>\n",
       "      <td>0.215153</td>\n",
       "      <td>69.99</td>\n",
       "      <td>0</td>\n",
       "    </tr>\n",
       "  </tbody>\n",
       "</table>\n",
       "<p>5 rows × 31 columns</p>\n",
       "</div>"
      ],
      "text/plain": [
       "   Time        V1        V2        V3        V4        V5        V6        V7  \\\n",
       "0   0.0 -1.359807 -0.072781  2.536347  1.378155 -0.338321  0.462388  0.239599   \n",
       "1   0.0  1.191857  0.266151  0.166480  0.448154  0.060018 -0.082361 -0.078803   \n",
       "2   1.0 -1.358354 -1.340163  1.773209  0.379780 -0.503198  1.800499  0.791461   \n",
       "3   1.0 -0.966272 -0.185226  1.792993 -0.863291 -0.010309  1.247203  0.237609   \n",
       "4   2.0 -1.158233  0.877737  1.548718  0.403034 -0.407193  0.095921  0.592941   \n",
       "\n",
       "         V8        V9  ...       V21       V22       V23       V24       V25  \\\n",
       "0  0.098698  0.363787  ... -0.018307  0.277838 -0.110474  0.066928  0.128539   \n",
       "1  0.085102 -0.255425  ... -0.225775 -0.638672  0.101288 -0.339846  0.167170   \n",
       "2  0.247676 -1.514654  ...  0.247998  0.771679  0.909412 -0.689281 -0.327642   \n",
       "3  0.377436 -1.387024  ... -0.108300  0.005274 -0.190321 -1.175575  0.647376   \n",
       "4 -0.270533  0.817739  ... -0.009431  0.798278 -0.137458  0.141267 -0.206010   \n",
       "\n",
       "        V26       V27       V28  Amount  Class  \n",
       "0 -0.189115  0.133558 -0.021053  149.62      0  \n",
       "1  0.125895 -0.008983  0.014724    2.69      0  \n",
       "2 -0.139097 -0.055353 -0.059752  378.66      0  \n",
       "3 -0.221929  0.062723  0.061458  123.50      0  \n",
       "4  0.502292  0.219422  0.215153   69.99      0  \n",
       "\n",
       "[5 rows x 31 columns]"
      ]
     },
     "execution_count": 464,
     "metadata": {},
     "output_type": "execute_result"
    }
   ],
   "source": [
    "data.head(5)"
   ]
  },
  {
   "cell_type": "code",
   "execution_count": 465,
   "metadata": {},
   "outputs": [
    {
     "name": "stdout",
     "output_type": "stream",
     "text": [
      "Class\n",
      "0    284315\n",
      "1       492\n",
      "Name: count, dtype: int64\n"
     ]
    }
   ],
   "source": [
    "num_classes = pd.Series(data['Class']).value_counts().sort_index()\n",
    "print(num_classes)\n",
    "\n"
   ]
  },
  {
   "cell_type": "code",
   "execution_count": 466,
   "metadata": {},
   "outputs": [
    {
     "data": {
      "text/plain": [
       "Text(0, 0.5, 'Frequency')"
      ]
     },
     "execution_count": 466,
     "metadata": {},
     "output_type": "execute_result"
    },
    {
     "data": {
      "image/png": "[encoded data removed]",
      "text/plain": [
       "<Figure size 640x480 with 1 Axes>"
      ]
     },
     "metadata": {},
     "output_type": "display_data"
    }
   ],
   "source": [
    "#plotting the occurances of each class\n",
    "num_classes.plot(kind = 'bar')\n",
    "plt.title('Count of rows in each class histogram')\n",
    "plt.xlabel(\"Class\")\n",
    "plt.ylabel(\"Frequency\")"
   ]
  },
  {
   "cell_type": "markdown",
   "metadata": {},
   "source": [
    "Task 2: Feature Scaling"
   ]
  },
  {
   "cell_type": "markdown",
   "metadata": {},
   "source": [
    "From the above chart, it is observed that dataset is clearly imbalanced(skewed data).\n",
    "Since the dataset is very large, to obtain a balance, I have implemented one of the re sampling techniques called under-sampling (randomly selected a subset of training examples from dataset with class=0(not fraud) and eliminated it)"
   ]
  },
  {
   "cell_type": "code",
   "execution_count": 467,
   "metadata": {},
   "outputs": [
    {
     "data": {
      "text/html": [
       "<div>\n",
       "<style scoped>\n",
       "    .dataframe tbody tr th:only-of-type {\n",
       "        vertical-align: middle;\n",
       "    }\n",
       "\n",
       "    .dataframe tbody tr th {\n",
       "        vertical-align: top;\n",
       "    }\n",
       "\n",
       "    .dataframe thead th {\n",
       "        text-align: right;\n",
       "    }\n",
       "</style>\n",
       "<table border=\"1\" class=\"dataframe\">\n",
       "  <thead>\n",
       "    <tr style=\"text-align: right;\">\n",
       "      <th></th>\n",
       "      <th>V1</th>\n",
       "      <th>V2</th>\n",
       "      <th>V3</th>\n",
       "      <th>V4</th>\n",
       "      <th>V5</th>\n",
       "      <th>V6</th>\n",
       "      <th>V7</th>\n",
       "      <th>V8</th>\n",
       "      <th>V9</th>\n",
       "      <th>V10</th>\n",
       "      <th>...</th>\n",
       "      <th>V21</th>\n",
       "      <th>V22</th>\n",
       "      <th>V23</th>\n",
       "      <th>V24</th>\n",
       "      <th>V25</th>\n",
       "      <th>V26</th>\n",
       "      <th>V27</th>\n",
       "      <th>V28</th>\n",
       "      <th>Amount</th>\n",
       "      <th>Class</th>\n",
       "    </tr>\n",
       "  </thead>\n",
       "  <tbody>\n",
       "    <tr>\n",
       "      <th>0</th>\n",
       "      <td>-1.359807</td>\n",
       "      <td>-0.072781</td>\n",
       "      <td>2.536347</td>\n",
       "      <td>1.378155</td>\n",
       "      <td>-0.338321</td>\n",
       "      <td>0.462388</td>\n",
       "      <td>0.239599</td>\n",
       "      <td>0.098698</td>\n",
       "      <td>0.363787</td>\n",
       "      <td>0.090794</td>\n",
       "      <td>...</td>\n",
       "      <td>-0.018307</td>\n",
       "      <td>0.277838</td>\n",
       "      <td>-0.110474</td>\n",
       "      <td>0.066928</td>\n",
       "      <td>0.128539</td>\n",
       "      <td>-0.189115</td>\n",
       "      <td>0.133558</td>\n",
       "      <td>-0.021053</td>\n",
       "      <td>0.244964</td>\n",
       "      <td>0</td>\n",
       "    </tr>\n",
       "    <tr>\n",
       "      <th>1</th>\n",
       "      <td>1.191857</td>\n",
       "      <td>0.266151</td>\n",
       "      <td>0.166480</td>\n",
       "      <td>0.448154</td>\n",
       "      <td>0.060018</td>\n",
       "      <td>-0.082361</td>\n",
       "      <td>-0.078803</td>\n",
       "      <td>0.085102</td>\n",
       "      <td>-0.255425</td>\n",
       "      <td>-0.166974</td>\n",
       "      <td>...</td>\n",
       "      <td>-0.225775</td>\n",
       "      <td>-0.638672</td>\n",
       "      <td>0.101288</td>\n",
       "      <td>-0.339846</td>\n",
       "      <td>0.167170</td>\n",
       "      <td>0.125895</td>\n",
       "      <td>-0.008983</td>\n",
       "      <td>0.014724</td>\n",
       "      <td>-0.342475</td>\n",
       "      <td>0</td>\n",
       "    </tr>\n",
       "    <tr>\n",
       "      <th>2</th>\n",
       "      <td>-1.358354</td>\n",
       "      <td>-1.340163</td>\n",
       "      <td>1.773209</td>\n",
       "      <td>0.379780</td>\n",
       "      <td>-0.503198</td>\n",
       "      <td>1.800499</td>\n",
       "      <td>0.791461</td>\n",
       "      <td>0.247676</td>\n",
       "      <td>-1.514654</td>\n",
       "      <td>0.207643</td>\n",
       "      <td>...</td>\n",
       "      <td>0.247998</td>\n",
       "      <td>0.771679</td>\n",
       "      <td>0.909412</td>\n",
       "      <td>-0.689281</td>\n",
       "      <td>-0.327642</td>\n",
       "      <td>-0.139097</td>\n",
       "      <td>-0.055353</td>\n",
       "      <td>-0.059752</td>\n",
       "      <td>1.160686</td>\n",
       "      <td>0</td>\n",
       "    </tr>\n",
       "    <tr>\n",
       "      <th>3</th>\n",
       "      <td>-0.966272</td>\n",
       "      <td>-0.185226</td>\n",
       "      <td>1.792993</td>\n",
       "      <td>-0.863291</td>\n",
       "      <td>-0.010309</td>\n",
       "      <td>1.247203</td>\n",
       "      <td>0.237609</td>\n",
       "      <td>0.377436</td>\n",
       "      <td>-1.387024</td>\n",
       "      <td>-0.054952</td>\n",
       "      <td>...</td>\n",
       "      <td>-0.108300</td>\n",
       "      <td>0.005274</td>\n",
       "      <td>-0.190321</td>\n",
       "      <td>-1.175575</td>\n",
       "      <td>0.647376</td>\n",
       "      <td>-0.221929</td>\n",
       "      <td>0.062723</td>\n",
       "      <td>0.061458</td>\n",
       "      <td>0.140534</td>\n",
       "      <td>0</td>\n",
       "    </tr>\n",
       "    <tr>\n",
       "      <th>4</th>\n",
       "      <td>-1.158233</td>\n",
       "      <td>0.877737</td>\n",
       "      <td>1.548718</td>\n",
       "      <td>0.403034</td>\n",
       "      <td>-0.407193</td>\n",
       "      <td>0.095921</td>\n",
       "      <td>0.592941</td>\n",
       "      <td>-0.270533</td>\n",
       "      <td>0.817739</td>\n",
       "      <td>0.753074</td>\n",
       "      <td>...</td>\n",
       "      <td>-0.009431</td>\n",
       "      <td>0.798278</td>\n",
       "      <td>-0.137458</td>\n",
       "      <td>0.141267</td>\n",
       "      <td>-0.206010</td>\n",
       "      <td>0.502292</td>\n",
       "      <td>0.219422</td>\n",
       "      <td>0.215153</td>\n",
       "      <td>-0.073403</td>\n",
       "      <td>0</td>\n",
       "    </tr>\n",
       "  </tbody>\n",
       "</table>\n",
       "<p>5 rows × 30 columns</p>\n",
       "</div>"
      ],
      "text/plain": [
       "         V1        V2        V3        V4        V5        V6        V7  \\\n",
       "0 -1.359807 -0.072781  2.536347  1.378155 -0.338321  0.462388  0.239599   \n",
       "1  1.191857  0.266151  0.166480  0.448154  0.060018 -0.082361 -0.078803   \n",
       "2 -1.358354 -1.340163  1.773209  0.379780 -0.503198  1.800499  0.791461   \n",
       "3 -0.966272 -0.185226  1.792993 -0.863291 -0.010309  1.247203  0.237609   \n",
       "4 -1.158233  0.877737  1.548718  0.403034 -0.407193  0.095921  0.592941   \n",
       "\n",
       "         V8        V9       V10  ...       V21       V22       V23       V24  \\\n",
       "0  0.098698  0.363787  0.090794  ... -0.018307  0.277838 -0.110474  0.066928   \n",
       "1  0.085102 -0.255425 -0.166974  ... -0.225775 -0.638672  0.101288 -0.339846   \n",
       "2  0.247676 -1.514654  0.207643  ...  0.247998  0.771679  0.909412 -0.689281   \n",
       "3  0.377436 -1.387024 -0.054952  ... -0.108300  0.005274 -0.190321 -1.175575   \n",
       "4 -0.270533  0.817739  0.753074  ... -0.009431  0.798278 -0.137458  0.141267   \n",
       "\n",
       "        V25       V26       V27       V28    Amount  Class  \n",
       "0  0.128539 -0.189115  0.133558 -0.021053  0.244964      0  \n",
       "1  0.167170  0.125895 -0.008983  0.014724 -0.342475      0  \n",
       "2 -0.327642 -0.139097 -0.055353 -0.059752  1.160686      0  \n",
       "3  0.647376 -0.221929  0.062723  0.061458  0.140534      0  \n",
       "4 -0.206010  0.502292  0.219422  0.215153 -0.073403      0  \n",
       "\n",
       "[5 rows x 30 columns]"
      ]
     },
     "execution_count": 467,
     "metadata": {},
     "output_type": "execute_result"
    }
   ],
   "source": [
    "#Feature Scaling the Amount column in the dataset\n",
    "SS= StandardScaler()\n",
    "data['Amount']=SS.fit_transform(data[['Amount']])\n",
    "data = data.drop(['Time'],axis=1)\n",
    "data.head(5)\n",
    "\n"
   ]
  },
  {
   "cell_type": "markdown",
   "metadata": {},
   "source": [
    "In XY dataset, X (V1, V2..) Y(Class=0,1)\n",
    "For 40 in Y class=1 there will be 40 from X which have Y class=0\n",
    "Other 40 in X with Y class =1 are both mixed as X_undersample and its corresponding Y is Y_undersampling"
   ]
  },
  {
   "cell_type": "code",
   "execution_count": 468,
   "metadata": {},
   "outputs": [],
   "source": [
    "#splitting X and y (without Under-sampling)\n",
    "y=data['Class']\n",
    "X=data.drop(['Class'],axis=1)\n",
    "#number of fraud examples\n",
    "fraud_num = len(data[data.Class==1])\n",
    "fraud_data= np.array(data[data.Class==1].index) #the data rows with class==1"
   ]
  },
  {
   "cell_type": "code",
   "execution_count": 469,
   "metadata": {},
   "outputs": [],
   "source": [
    "#the data rows with class==0\n",
    "normal_data=data[data.Class==0].index\n",
    "#randomly taking the subset of normal_data(not fraud)  \n",
    "random_normal_data= np.array(np.random.choice(normal_data,fraud_num, replace= False))"
   ]
  },
  {
   "cell_type": "code",
   "execution_count": 470,
   "metadata": {},
   "outputs": [],
   "source": [
    "#combing both fraud and subset of not fraud data as a newdata\n",
    "new_data=np.concatenate([fraud_data,random_normal_data])\n",
    "undersampling_data = data.iloc[new_data,:]"
   ]
  },
  {
   "cell_type": "markdown",
   "metadata": {},
   "source": [
    "Here, it is seen that both the class have the equal number of data rows which makes it a balanced data set"
   ]
  },
  {
   "cell_type": "code",
   "execution_count": 471,
   "metadata": {},
   "outputs": [
    {
     "name": "stdout",
     "output_type": "stream",
     "text": [
      "(984, 30)\n",
      "Class\n",
      "0    492\n",
      "1    492\n",
      "Name: count, dtype: int64\n"
     ]
    }
   ],
   "source": [
    "#printing the number of examples in each class after unser-sampling\n",
    "print(undersampling_data.shape)\n",
    "Count_of_distinct_classes = pd.Series(undersampling_data['Class']).value_counts().sort_index()\n",
    "print(Count_of_distinct_classes)\n"
   ]
  },
  {
   "cell_type": "code",
   "execution_count": 472,
   "metadata": {},
   "outputs": [],
   "source": [
    "# splitting the undersampling data \n",
    "y_under=undersampling_data['Class']\n",
    "X_under=undersampling_data.drop(['Class'],axis=1)"
   ]
  },
  {
   "cell_type": "code",
   "execution_count": 473,
   "metadata": {},
   "outputs": [],
   "source": [
    "#splitting the data into train and test set using test_train_split\n",
    "#data set before Undersampling\n",
    "X_train, X_test, y_train, y_test = train_test_split(X,y,test_size = 0.3, random_state = 0)\n",
    "#undersampling dataset\n",
    "X_train_under, X_test_under, y_train_under, y_test_under = train_test_split(X_under, y_under, test_size=0.3, random_state=0)\n"
   ]
  },
  {
   "cell_type": "markdown",
   "metadata": {},
   "source": [
    "Task 3: Logistic Regression\n",
    "Since the data is skewed, numerous instances might be erroneously classified as False Negatives. In other words, we might predict a transaction as normal when it's actually fraudulent. Recall, in this context, quantifies our ability to capture such occurrences.(TP/TP+FN)"
   ]
  },
  {
   "cell_type": "code",
   "execution_count": 474,
   "metadata": {},
   "outputs": [],
   "source": [
    "# Function for choosing the best regularization value\n",
    "def best_reg_val(train_x, train_y):\n",
    "    fold = KFold(n_splits=10, shuffle=False)\n",
    "\n",
    "    # Different parameters values\n",
    "    lambda_val = [0.01, 0.1, 1, 10, 100]\n",
    "\n",
    "    res = pd.DataFrame(index=range(len(lambda_val)), columns=['lambda Value', 'Mean recall score'])\n",
    "    res['lambda Value'] = lambda_val\n",
    "\n",
    "    # Iterate over different lambda values\n",
    "    j = 0\n",
    "    for i in lambda_val:\n",
    "        print('-------------------------------------------')\n",
    "        print('Lambda parameter: ', i)\n",
    "        print('-------------------------------------------')\n",
    "        print('')\n",
    "\n",
    "        recall_val = []\n",
    "        for iteration, indices in enumerate(fold.split(train_x), start=1):\n",
    "            # Call the logistic regression model with a certain C(lambda) parameter\n",
    "            lr = LogisticRegression(C=i, penalty='l1', solver='liblinear')\n",
    "\n",
    "            # Use the training data to fit the model\n",
    "            train_index, test_index = indices\n",
    "            lr.fit(train_x.iloc[train_index], train_y.iloc[train_index].values.ravel())\n",
    "\n",
    "            # Predict values using the test data\n",
    "            pred = lr.predict(train_x.iloc[test_index])\n",
    "\n",
    "            # Calculate the recall score\n",
    "            recall = recall_score(train_y.iloc[test_index], pred)\n",
    "            recall_val.append(recall)\n",
    "            print('Iteration ', iteration, ': recall score = ', recall)\n",
    "\n",
    "        # Calculate and store the mean recall score\n",
    "        res.loc[j, 'Mean recall score'] = np.mean(recall_val)\n",
    "        j += 1\n",
    "        print('')\n",
    "        print('Mean recall score ', np.mean(recall_val))\n",
    "        print('')\n",
    "\n",
    "    # Get the best lambda value\n",
    "    best_lambda = res.loc[res['Mean recall score'].idxmax()]['lambda Value']\n",
    "\n",
    "    # Print the best lambda value\n",
    "    print('***************************')\n",
    "    print('Best model to choose from cross validation is with lambda parameter = ', best_lambda)\n",
    "    print('***************************')\n",
    "\n",
    "    return best_lambda"
   ]
  },
  {
   "cell_type": "code",
   "execution_count": 475,
   "metadata": {},
   "outputs": [
    {
     "name": "stdout",
     "output_type": "stream",
     "text": [
      "-------------------------------------------\n",
      "Lambda parameter:  0.01\n",
      "-------------------------------------------\n",
      "\n",
      "Iteration  1 : recall score =  0.9743589743589743\n",
      "Iteration  2 : recall score =  0.8823529411764706\n",
      "Iteration  3 : recall score =  0.9487179487179487\n",
      "Iteration  4 : recall score =  0.8529411764705882\n",
      "Iteration  5 : recall score =  1.0\n",
      "Iteration  6 : recall score =  1.0\n",
      "Iteration  7 : recall score =  1.0\n",
      "Iteration  8 : recall score =  0.9285714285714286\n",
      "Iteration  9 : recall score =  0.9459459459459459\n",
      "Iteration  10 : recall score =  1.0\n",
      "\n",
      "Mean recall score  0.9532888415241356\n",
      "\n",
      "-------------------------------------------\n",
      "Lambda parameter:  0.1\n",
      "-------------------------------------------\n",
      "\n",
      "Iteration  1 : recall score =  0.8974358974358975\n",
      "Iteration  2 : recall score =  0.7941176470588235\n",
      "Iteration  3 : recall score =  0.8974358974358975\n",
      "Iteration  4 : recall score =  0.8529411764705882\n",
      "Iteration  5 : recall score =  0.9642857142857143\n",
      "Iteration  6 : recall score =  0.9354838709677419\n",
      "Iteration  7 : recall score =  0.9696969696969697\n",
      "Iteration  8 : recall score =  0.9285714285714286\n",
      "Iteration  9 : recall score =  0.918918918918919\n",
      "Iteration  10 : recall score =  0.8928571428571429\n",
      "\n",
      "Mean recall score  0.9051744663699124\n",
      "\n",
      "-------------------------------------------\n",
      "Lambda parameter:  1\n",
      "-------------------------------------------\n",
      "\n",
      "Iteration  1 : recall score =  0.8974358974358975\n",
      "Iteration  2 : recall score =  0.7941176470588235\n",
      "Iteration  3 : recall score =  0.8974358974358975\n",
      "Iteration  4 : recall score =  0.8529411764705882\n",
      "Iteration  5 : recall score =  0.9285714285714286\n",
      "Iteration  6 : recall score =  0.967741935483871\n",
      "Iteration  7 : recall score =  0.9696969696969697\n",
      "Iteration  8 : recall score =  0.9285714285714286\n",
      "Iteration  9 : recall score =  0.918918918918919\n",
      "Iteration  10 : recall score =  0.8928571428571429\n",
      "\n",
      "Mean recall score  0.9048288442500967\n",
      "\n",
      "-------------------------------------------\n",
      "Lambda parameter:  10\n",
      "-------------------------------------------\n",
      "\n",
      "Iteration  1 : recall score =  0.8974358974358975\n",
      "Iteration  2 : recall score =  0.8235294117647058\n",
      "Iteration  3 : recall score =  0.8974358974358975\n",
      "Iteration  4 : recall score =  0.8823529411764706\n",
      "Iteration  5 : recall score =  0.9285714285714286\n",
      "Iteration  6 : recall score =  0.967741935483871\n",
      "Iteration  7 : recall score =  0.9696969696969697\n",
      "Iteration  8 : recall score =  0.9285714285714286\n",
      "Iteration  9 : recall score =  0.918918918918919\n",
      "Iteration  10 : recall score =  0.8928571428571429\n",
      "\n",
      "Mean recall score  0.9107111971912731\n",
      "\n",
      "-------------------------------------------\n",
      "Lambda parameter:  100\n",
      "-------------------------------------------\n",
      "\n",
      "Iteration  1 : recall score =  0.8974358974358975\n",
      "Iteration  2 : recall score =  0.8235294117647058\n",
      "Iteration  3 : recall score =  0.8974358974358975\n",
      "Iteration  4 : recall score =  0.8823529411764706\n",
      "Iteration  5 : recall score =  0.9285714285714286\n",
      "Iteration  6 : recall score =  0.967741935483871\n",
      "Iteration  7 : recall score =  0.9696969696969697\n",
      "Iteration  8 : recall score =  0.9285714285714286\n",
      "Iteration  9 : recall score =  0.918918918918919\n",
      "Iteration  10 : recall score =  0.8928571428571429\n",
      "\n",
      "Mean recall score  0.9107111971912731\n",
      "\n",
      "***************************\n",
      "Best model to choose from cross validation is with lambda parameter =  0.01\n",
      "***************************\n"
     ]
    }
   ],
   "source": [
    "best_lambda = best_reg_val(X_train_under,y_train_under)"
   ]
  },
  {
   "cell_type": "code",
   "execution_count": 476,
   "metadata": {},
   "outputs": [
    {
     "name": "stdout",
     "output_type": "stream",
     "text": [
      "[[129  20]\n",
      " [  8 139]]\n",
      "Recall metric in the testing dataset:  0.9455782312925171\n"
     ]
    },
    {
     "name": "stderr",
     "output_type": "stream",
     "text": [
      "/Users/sharlenegandham/Library/Python/3.9/lib/python/site-packages/sklearn/base.py:493: UserWarning: X does not have valid feature names, but LogisticRegression was fitted with feature names\n",
      "  warnings.warn(\n"
     ]
    }
   ],
   "source": [
    "#Implementation of Logistic Regression using the best lambda got from the above function\n",
    "model = LogisticRegression(C=best_lambda, penalty='l1',solver='liblinear')\n",
    "model.fit(X_train_under, y_train_under.values.ravel())\n",
    "pred_under= model.predict(X_test_under.values)\n",
    "\n",
    "#confusion matrix\n",
    "cm = confusion_matrix(y_test_under, pred_under)\n",
    "print(cm)\n",
    "print(\"Recall metric in the testing dataset: \", cm[1,1]/(cm[1,0]+cm[1,1]))"
   ]
  },
  {
   "cell_type": "markdown",
   "metadata": {},
   "source": [
    "Task 4: Confusion Matrix"
   ]
  },
  {
   "cell_type": "code",
   "execution_count": 482,
   "metadata": {},
   "outputs": [
    {
     "data": {
      "image/png": "[encoded data removed]",
      "text/plain": [
       "<Figure size 800x600 with 2 Axes>"
      ]
     },
     "metadata": {},
     "output_type": "display_data"
    }
   ],
   "source": [
    "# Plot confusion matrix\n",
    "def plot_cm(actual, predicted, normalize=False, title='Confusion Matrix'):\n",
    "    cm = confusion_matrix(actual, predicted)\n",
    "    plt.figure(figsize=(8, 6))\n",
    "    plt.imshow(cm, interpolation='nearest', cmap=plt.cm.Blues)\n",
    "\n",
    "    plt.colorbar()\n",
    "    classes = ['Not Fraud', 'Fraud']\n",
    "    tick_marks = np.arange(len(classes))\n",
    "    plt.xticks(tick_marks, classes, rotation=45)\n",
    "    plt.yticks(tick_marks, classes)\n",
    "\n",
    "    fmt = 'd'\n",
    "    thresh = cm.max() / 2.\n",
    "    for i in range(cm.shape[0]):\n",
    "        for j in range(cm.shape[1]):\n",
    "            plt.text(j, i, format(cm[i, j], fmt),\n",
    "                    ha=\"center\", va=\"center\",\n",
    "                    color=\"white\" if cm[i, j] > thresh else \"black\")\n",
    "\n",
    "    plt.ylabel('True label')\n",
    "    plt.xlabel('Predicted label')\n",
    "    plt.tight_layout()\n",
    "    plt.show()\n",
    "\n",
    "plot_cm(y_test_under, pred_under)"
   ]
  },
  {
   "cell_type": "markdown",
   "metadata": {},
   "source": [
    "task 5: Performing Logistic regression classifier for Undersampled data and try to test it on whole test data"
   ]
  },
  {
   "cell_type": "code",
   "execution_count": 480,
   "metadata": {},
   "outputs": [
    {
     "name": "stdout",
     "output_type": "stream",
     "text": [
      "Recall metric in the testing dataset:  0.9387755102040817\n"
     ]
    },
    {
     "name": "stderr",
     "output_type": "stream",
     "text": [
      "/Users/sharlenegandham/Library/Python/3.9/lib/python/site-packages/sklearn/base.py:493: UserWarning: X does not have valid feature names, but LogisticRegression was fitted with feature names\n",
      "  warnings.warn(\n",
      "/Users/sharlenegandham/Library/Python/3.9/lib/python/site-packages/sklearn/base.py:493: UserWarning: X does not have valid feature names, but LogisticRegression was fitted with feature names\n",
      "  warnings.warn(\n"
     ]
    },
    {
     "data": {
      "image/png": "[encoded data removed]",
      "text/plain": [
       "<Figure size 800x600 with 2 Axes>"
      ]
     },
     "metadata": {},
     "output_type": "display_data"
    }
   ],
   "source": [
    "#Implementation of Logistic Regression using the best lambda got from the above function\n",
    "#training only on test on whole dataset\n",
    "model1 = LogisticRegression(C=best_lambda, penalty='l1',solver='liblinear')\n",
    "model1.fit(X_train_under, y_train_under.values.ravel())\n",
    "pred_test_whole= model1.predict(X_test.values)\n",
    "cm=confusion_matrix(y_test, pred_test_whole)\n",
    "pred_under= model.predict(X_test_under.values)\n",
    "print(\"Recall metric in the testing dataset: \", cm[1,1]/(cm[1,0]+cm[1,1]))\n",
    "#confusion matrix\n",
    "plot_cm(y_test, pred_test_whole)\n"
   ]
  },
  {
   "cell_type": "markdown",
   "metadata": {},
   "source": [
    "Task 6: Performing Logsitic Regression classifier on the whole dataset (skewed data)\n"
   ]
  },
  {
   "cell_type": "code",
   "execution_count": 490,
   "metadata": {},
   "outputs": [
    {
     "name": "stdout",
     "output_type": "stream",
     "text": [
      "-------------------------------------------\n",
      "Lambda parameter:  0.01\n",
      "-------------------------------------------\n",
      "\n",
      "Iteration  1 : recall score =  0.5\n",
      "Iteration  2 : recall score =  0.4838709677419355\n",
      "Iteration  3 : recall score =  0.5555555555555556\n",
      "Iteration  4 : recall score =  0.6216216216216216\n",
      "Iteration  5 : recall score =  0.6206896551724138\n",
      "Iteration  6 : recall score =  0.7419354838709677\n",
      "Iteration  7 : recall score =  0.6153846153846154\n",
      "Iteration  8 : recall score =  0.5\n",
      "Iteration  9 : recall score =  0.4444444444444444\n",
      "Iteration  10 : recall score =  0.5142857142857142\n",
      "\n",
      "Mean recall score  0.5597788058077269\n",
      "\n",
      "-------------------------------------------\n",
      "Lambda parameter:  0.1\n",
      "-------------------------------------------\n",
      "\n",
      "Iteration  1 : recall score =  0.5555555555555556\n",
      "Iteration  2 : recall score =  0.5483870967741935\n",
      "Iteration  3 : recall score =  0.6111111111111112\n",
      "Iteration  4 : recall score =  0.6216216216216216\n",
      "Iteration  5 : recall score =  0.6551724137931034\n",
      "Iteration  6 : recall score =  0.6774193548387096\n",
      "Iteration  7 : recall score =  0.717948717948718\n",
      "Iteration  8 : recall score =  0.46153846153846156\n",
      "Iteration  9 : recall score =  0.5111111111111111\n",
      "Iteration  10 : recall score =  0.5714285714285714\n",
      "\n",
      "Mean recall score  0.5931294015721157\n",
      "\n",
      "-------------------------------------------\n",
      "Lambda parameter:  1\n",
      "-------------------------------------------\n",
      "\n",
      "Iteration  1 : recall score =  0.5277777777777778\n",
      "Iteration  2 : recall score =  0.5806451612903226\n",
      "Iteration  3 : recall score =  0.6111111111111112\n",
      "Iteration  4 : recall score =  0.6486486486486487\n",
      "Iteration  5 : recall score =  0.6551724137931034\n",
      "Iteration  6 : recall score =  0.7096774193548387\n",
      "Iteration  7 : recall score =  0.717948717948718\n",
      "Iteration  8 : recall score =  0.5\n",
      "Iteration  9 : recall score =  0.5555555555555556\n",
      "Iteration  10 : recall score =  0.6\n",
      "\n",
      "Mean recall score  0.6106536805480076\n",
      "\n",
      "-------------------------------------------\n",
      "Lambda parameter:  10\n",
      "-------------------------------------------\n",
      "\n",
      "Iteration  1 : recall score =  0.5277777777777778\n",
      "Iteration  2 : recall score =  0.5806451612903226\n",
      "Iteration  3 : recall score =  0.6111111111111112\n",
      "Iteration  4 : recall score =  0.6486486486486487\n",
      "Iteration  5 : recall score =  0.6551724137931034\n",
      "Iteration  6 : recall score =  0.7096774193548387\n",
      "Iteration  7 : recall score =  0.717948717948718\n",
      "Iteration  8 : recall score =  0.5\n",
      "Iteration  9 : recall score =  0.5777777777777777\n",
      "Iteration  10 : recall score =  0.6\n",
      "\n",
      "Mean recall score  0.6128759027702297\n",
      "\n",
      "-------------------------------------------\n",
      "Lambda parameter:  100\n",
      "-------------------------------------------\n",
      "\n",
      "Iteration  1 : recall score =  0.5277777777777778\n",
      "Iteration  2 : recall score =  0.5806451612903226\n",
      "Iteration  3 : recall score =  0.6111111111111112\n",
      "Iteration  4 : recall score =  0.6486486486486487\n",
      "Iteration  5 : recall score =  0.6896551724137931\n",
      "Iteration  6 : recall score =  0.7096774193548387\n",
      "Iteration  7 : recall score =  0.717948717948718\n",
      "Iteration  8 : recall score =  0.5\n",
      "Iteration  9 : recall score =  0.5777777777777777\n",
      "Iteration  10 : recall score =  0.6\n",
      "\n",
      "Mean recall score  0.6163241786322987\n",
      "\n",
      "***************************\n",
      "Best model to choose from cross validation is with lambda parameter =  100.0\n",
      "***************************\n"
     ]
    }
   ],
   "source": [
    "best_lambda_val_whole = best_reg_val(X_train, y_train)"
   ]
  },
  {
   "cell_type": "code",
   "execution_count": 493,
   "metadata": {},
   "outputs": [
    {
     "name": "stdout",
     "output_type": "stream",
     "text": [
      "Recall metric in the testing dataset:  0.6190476190476191\n"
     ]
    },
    {
     "name": "stderr",
     "output_type": "stream",
     "text": [
      "/Users/sharlenegandham/Library/Python/3.9/lib/python/site-packages/sklearn/base.py:493: UserWarning: X does not have valid feature names, but LogisticRegression was fitted with feature names\n",
      "  warnings.warn(\n",
      "/Users/sharlenegandham/Library/Python/3.9/lib/python/site-packages/sklearn/base.py:493: UserWarning: X does not have valid feature names, but LogisticRegression was fitted with feature names\n",
      "  warnings.warn(\n"
     ]
    },
    {
     "data": {
      "image/png": "[encoded data removed]",
      "text/plain": [
       "<Figure size 800x600 with 2 Axes>"
      ]
     },
     "metadata": {},
     "output_type": "display_data"
    }
   ],
   "source": [
    "#Implementation of Logistic Regression using the best lambda got from the above function\n",
    "#training only on test on whole dataset\n",
    "model2 = LogisticRegression(C=best_lambda_val_whole, penalty='l1',solver='liblinear')\n",
    "model2.fit(X_train, y_train.values.ravel())\n",
    "pred_whole= model2.predict(X_test.values)\n",
    "cm=confusion_matrix(y_test, pred_whole)\n",
    "pred_under= model.predict(X_test_under.values)\n",
    "print(\"Recall metric in the testing dataset: \", cm[1,1]/(cm[1,0]+cm[1,1]))\n",
    "#confusion matrix\n",
    "plot_cm(y_test, pred_whole)"
   ]
  }
 ],
 "metadata": {
  "kernelspec": {
   "display_name": "Python 3",
   "language": "python",
   "name": "python3"
  },
  "language_info": {
   "codemirror_mode": {
    "name": "ipython",
    "version": 3
   },
   "file_extension": ".py",
   "mimetype": "text/x-python",
   "name": "python",
   "nbconvert_exporter": "python",
   "pygments_lexer": "ipython3",
   "version": "3.9.6"
  }
 },
 "nbformat": 4,
 "nbformat_minor": 2
}
