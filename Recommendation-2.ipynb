{
 "cells": [
  {
   "cell_type": "markdown",
   "metadata": {},
   "source": [
    "Item to item based recommendation system based on product description"
   ]
  },
  {
   "cell_type": "code",
   "execution_count": 27,
   "metadata": {},
   "outputs": [],
   "source": [
    "import numpy as np\n",
    "import pandas as pd\n",
    "import matplotlib.pyplot as plt\n",
    "\n",
    "import sklearn\n",
    "from sklearn.feature_extraction.text import TfidfVectorizer, CountVectorizer\n",
    "from sklearn.neighbors import NearestNeighbors\n",
    "from sklearn.cluster import KMeans\n",
    "from sklearn.metrics import adjusted_rand_score"
   ]
  },
  {
   "cell_type": "code",
   "execution_count": 28,
   "metadata": {},
   "outputs": [
    {
     "data": {
      "text/html": [
       "<div>\n",
       "<style scoped>\n",
       "    .dataframe tbody tr th:only-of-type {\n",
       "        vertical-align: middle;\n",
       "    }\n",
       "\n",
       "    .dataframe tbody tr th {\n",
       "        vertical-align: top;\n",
       "    }\n",
       "\n",
       "    .dataframe thead th {\n",
       "        text-align: right;\n",
       "    }\n",
       "</style>\n",
       "<table border=\"1\" class=\"dataframe\">\n",
       "  <thead>\n",
       "    <tr style=\"text-align: right;\">\n",
       "      <th></th>\n",
       "      <th>product_id</th>\n",
       "      <th>description</th>\n",
       "    </tr>\n",
       "  </thead>\n",
       "  <tbody>\n",
       "    <tr>\n",
       "      <th>0</th>\n",
       "      <td>310090686</td>\n",
       "      <td>This heavyweight, water-repellent hooded sweat...</td>\n",
       "    </tr>\n",
       "    <tr>\n",
       "      <th>1</th>\n",
       "      <td>206724580</td>\n",
       "      <td>If you need more length between your existing ...</td>\n",
       "    </tr>\n",
       "    <tr>\n",
       "      <th>2</th>\n",
       "      <td>310347105</td>\n",
       "      <td>Polyester cover resembling rich Italian tapest...</td>\n",
       "    </tr>\n",
       "    <tr>\n",
       "      <th>3</th>\n",
       "      <td>312338711</td>\n",
       "      <td>It features a rectangle shape. This vessel set...</td>\n",
       "    </tr>\n",
       "    <tr>\n",
       "      <th>4</th>\n",
       "      <td>308561619</td>\n",
       "      <td>This 9 in. black full grain leather logger boo...</td>\n",
       "    </tr>\n",
       "  </tbody>\n",
       "</table>\n",
       "</div>"
      ],
      "text/plain": [
       "   product_id                                        description\n",
       "0   310090686  This heavyweight, water-repellent hooded sweat...\n",
       "1   206724580  If you need more length between your existing ...\n",
       "2   310347105  Polyester cover resembling rich Italian tapest...\n",
       "3   312338711  It features a rectangle shape. This vessel set...\n",
       "4   308561619  This 9 in. black full grain leather logger boo..."
      ]
     },
     "execution_count": 28,
     "metadata": {},
     "output_type": "execute_result"
    }
   ],
   "source": [
    "df = pd.read_csv('home_depot_data.csv')\n",
    "\n",
    "# List of columns to keep, I will be working with only description of products\n",
    "columns_to_keep = ['product_id', 'description']\n",
    "\n",
    "# Drop columns that are not in columns_to_keep\n",
    "df = df.loc[:, columns_to_keep]\n",
    "df = df.dropna()\n",
    "df = df.drop(df.columns.difference(columns_to_keep), axis=1)\n",
    "\n",
    "df.head()"
   ]
  },
  {
   "cell_type": "code",
   "execution_count": 29,
   "metadata": {},
   "outputs": [
    {
     "data": {
      "text/plain": [
       "0     This heavyweight, water-repellent hooded sweat...\n",
       "1     If you need more length between your existing ...\n",
       "2     Polyester cover resembling rich Italian tapest...\n",
       "3     It features a rectangle shape. This vessel set...\n",
       "4     This 9 in. black full grain leather logger boo...\n",
       "5     With robust structure and sophisticated canvas...\n",
       "6     BEHR PRO i300 Semi-Gloss Interior Paint has a ...\n",
       "7     DEWALT High Performance 0.045 in. Metal Cuttin...\n",
       "8     This Ring Bar Cart is sure to make a statement...\n",
       "9     This transitional vanity table proudly display...\n",
       "10    Its easy to add a decorative touch to your hom...\n",
       "11    BEHR PREMIUM PLUS Interior Paint & Primer offe...\n",
       "12    BlindsAvenue light filtering cellular shades w...\n",
       "13    Luverne SlimGrip truck running boards combine ...\n",
       "14    Our Rustic Collection is an instant classic. R...\n",
       "Name: description, dtype: object"
      ]
     },
     "execution_count": 29,
     "metadata": {},
     "output_type": "execute_result"
    }
   ],
   "source": [
    "prod_descriptions1 = df.head(500)\n",
    "prod_descriptions1[\"description\"].head(15)"
   ]
  },
  {
   "cell_type": "markdown",
   "metadata": {},
   "source": [
    "Feature extraction from product descriptions"
   ]
  },
  {
   "cell_type": "code",
   "execution_count": 30,
   "metadata": {},
   "outputs": [
    {
     "data": {
      "text/plain": [
       "<500x4472 sparse matrix of type '<class 'numpy.float64'>'\n",
       "\twith 20425 stored elements in Compressed Sparse Row format>"
      ]
     },
     "execution_count": 30,
     "metadata": {},
     "output_type": "execute_result"
    }
   ],
   "source": [
    "#TF-IDF Term Frequency-Inverse Document Frequency\n",
    "#stop-words are common english\n",
    "vectorizer = TfidfVectorizer(stop_words='english')\n",
    "#fits the vectorizer to your data & transforms the text data into a TF-IDF matrix \n",
    "X1 = vectorizer.fit_transform(prod_descriptions1[\"description\"])\n",
    "X1"
   ]
  },
  {
   "cell_type": "markdown",
   "metadata": {},
   "source": [
    "Clustering product description"
   ]
  },
  {
   "cell_type": "code",
   "execution_count": 31,
   "metadata": {},
   "outputs": [
    {
     "data": {
      "image/png": "[encoded data removed]",
      "text/plain": [
       "<Figure size 640x480 with 1 Axes>"
      ]
     },
     "metadata": {},
     "output_type": "display_data"
    }
   ],
   "source": [
    "#Fitting K-Means to the dataset\n",
    "X=X1\n",
    "#k-means++ initialization method, which aims to select centroids that are distant from each other\n",
    "kmeans = KMeans(n_clusters = 10, init = 'k-means++')\n",
    "y_kmeans = kmeans.fit_predict(X)\n",
    "plt.plot(y_kmeans, \".\")\n",
    "plt.show()"
   ]
  },
  {
   "cell_type": "code",
   "execution_count": 36,
   "metadata": {},
   "outputs": [
    {
     "name": "stdout",
     "output_type": "stream",
     "text": [
      "Top terms per cluster:\n",
      "Cluster 0:\n",
      " exterior\n",
      " paint\n",
      " behr\n",
      " sheen\n",
      " ultra\n",
      " masonry\n",
      " excellent\n",
      " doors\n",
      " home\n",
      " trim\n",
      "Cluster 1:\n",
      " sample\n",
      " cord\n",
      " light\n",
      " power\n",
      " ft\n",
      " cable\n",
      " lights\n",
      " metal\n",
      " led\n",
      " 16\n",
      "Cluster 2:\n",
      " door\n",
      " glass\n",
      " shower\n",
      " easy\n",
      " wall\n",
      " doors\n",
      " bathroom\n",
      " designed\n",
      " durable\n",
      " rod\n",
      "Cluster 3:\n",
      " design\n",
      " style\n",
      " room\n",
      " home\n",
      " space\n",
      " add\n",
      " piece\n",
      " ceiling\n",
      " modern\n",
      " light\n",
      "Cluster 4:\n",
      " rug\n",
      " collection\n",
      " rugs\n",
      " rustic\n",
      " area\n",
      " natural\n",
      " safavieh\n",
      " home\n",
      " soft\n",
      " colors\n",
      "Cluster 5:\n",
      " wood\n",
      " beams\n",
      " real\n",
      " shutters\n",
      " home\n",
      " authentic\n",
      " shades\n",
      " faux\n",
      " light\n",
      " offer\n",
      "Cluster 6:\n",
      " coat\n",
      " scuff\n",
      " stain\n",
      " paint\n",
      " primer\n",
      " label\n",
      " details\n",
      " behr\n",
      " colors\n",
      " hide\n",
      "Cluster 7:\n",
      " glidden\n",
      " paint\n",
      " exterior\n",
      " diamond\n",
      " latex\n",
      " results\n",
      " delivers\n",
      " tinted\n",
      " application\n",
      " essentials\n",
      "Cluster 8:\n",
      " plus\n",
      " premium\n",
      " stains\n",
      " paint\n",
      " finish\n",
      " resists\n",
      " mildew\n",
      " hide\n",
      " low\n",
      " exceptional\n",
      "Cluster 9:\n",
      " stair\n",
      " brake\n",
      " steel\n",
      " treads\n",
      " stainless\n",
      " size\n",
      " complete\n",
      " rail\n",
      " design\n",
      " nosing\n"
     ]
    }
   ],
   "source": [
    "#Optimal clusters is \n",
    "def print_cluster(i):\n",
    "    print(\"Cluster %d:\" % i),\n",
    "    for ind in order_centroids[i, :10]:\n",
    "        print(' %s' % terms[ind]),\n",
    "    print\n",
    "\n",
    "true_k = 10\n",
    "model = KMeans(n_clusters=true_k, init='k-means++', max_iter=100, n_init=1)\n",
    "model.fit(X1)\n",
    "\n",
    "print(\"Top terms per cluster:\")\n",
    "order_centroids = model.cluster_centers_.argsort()[:, ::-1]\n",
    "terms = vectorizer.get_feature_names_out()\n",
    "for i in range(true_k):\n",
    "    print_cluster(i)\n",
    "\n"
   ]
  },
  {
   "cell_type": "markdown",
   "metadata": {},
   "source": [
    "Predicting clusters based on key search words"
   ]
  },
  {
   "cell_type": "code",
   "execution_count": 43,
   "metadata": {},
   "outputs": [],
   "source": [
    "def show_recommendations(product):\n",
    "    #print(\"Cluster ID:\")\n",
    "    #Transform the input product description into TF-IDF format\n",
    "    Y = vectorizer.transform([product])\n",
    "    prediction = model.predict(Y)\n",
    "    #print(prediction)\n",
    "    print_cluster(prediction[0])"
   ]
  },
  {
   "cell_type": "code",
   "execution_count": 44,
   "metadata": {},
   "outputs": [
    {
     "name": "stdout",
     "output_type": "stream",
     "text": [
      "Cluster 3:\n",
      " design\n",
      " style\n",
      " room\n",
      " home\n",
      " space\n",
      " add\n",
      " piece\n",
      " ceiling\n",
      " modern\n",
      " light\n"
     ]
    }
   ],
   "source": [
    "show_recommendations(\"room decor\")"
   ]
  },
  {
   "cell_type": "code",
   "execution_count": 48,
   "metadata": {},
   "outputs": [
    {
     "name": "stdout",
     "output_type": "stream",
     "text": [
      "Cluster 2:\n",
      " door\n",
      " glass\n",
      " shower\n",
      " easy\n",
      " wall\n",
      " doors\n",
      " bathroom\n",
      " designed\n",
      " durable\n",
      " rod\n"
     ]
    }
   ],
   "source": [
    "show_recommendations(\"cutting tool\")"
   ]
  }
 ],
 "metadata": {
  "kernelspec": {
   "display_name": "Python 3",
   "language": "python",
   "name": "python3"
  },
  "language_info": {
   "codemirror_mode": {
    "name": "ipython",
    "version": 3
   },
   "file_extension": ".py",
   "mimetype": "text/x-python",
   "name": "python",
   "nbconvert_exporter": "python",
   "pygments_lexer": "ipython3",
   "version": "3.9.6"
  }
 },
 "nbformat": 4,
 "nbformat_minor": 2
}
